{
 "cells": [
  {
   "cell_type": "code",
   "execution_count": 6,
   "id": "41970130-66fa-46d5-bd2c-329172eeaa16",
   "metadata": {},
   "outputs": [],
   "source": [
    "from tensorflow.keras import Layer,Sequential\n",
    "from keras.layers import Dense,SimpleRNN\n",
    "from tensorflow.keras.preprocessing.text import Tokenizer"
   ]
  },
  {
   "cell_type": "code",
   "execution_count": 7,
   "id": "654ca229-2508-406a-9e8e-4da0daea8642",
   "metadata": {},
   "outputs": [],
   "source": [
    "docs=[\n",
    "    'Hello how Are You',\n",
    "    'Nice to see you',\n",
    "    'RCB will win this year \\'S ipl trophy',\n",
    "    'I dont like The Shawshank Redemption movie',\n",
    "    'It is really a bad day',\n",
    "    'Today \\'s weather seems like raining'\n",
    "]"
   ]
  },
  {
   "cell_type": "code",
   "execution_count": 8,
   "id": "c354bab4-4f45-4ada-be5d-1faea0e72969",
   "metadata": {},
   "outputs": [
    {
     "data": {
      "text/plain": [
       "['Hello how Are You',\n",
       " 'Nice to see you',\n",
       " \"RCB will win this year 'S ipl trophy\",\n",
       " 'I dont like The Shawshank Redemption movie',\n",
       " 'It is really a bad day',\n",
       " \"Today 's weather seems like raining\"]"
      ]
     },
     "execution_count": 8,
     "metadata": {},
     "output_type": "execute_result"
    }
   ],
   "source": [
    "docs"
   ]
  },
  {
   "cell_type": "markdown",
   "id": "c772f25a-6772-4029-be69-32b9093043a5",
   "metadata": {},
   "source": [
    "## Methods for vectorization\n",
    "* simple\n",
    "* embadding"
   ]
  },
  {
   "cell_type": "code",
   "execution_count": 9,
   "id": "22525221-742b-4544-9ff2-9c9cd684c83f",
   "metadata": {},
   "outputs": [],
   "source": [
    "tc=Tokenizer(oov_token=' ')"
   ]
  },
  {
   "cell_type": "code",
   "execution_count": 11,
   "id": "9383b0ec-f79f-47b2-82e8-e7703c072942",
   "metadata": {},
   "outputs": [],
   "source": [
    "tc.fit_on_texts(docs)"
   ]
  },
  {
   "cell_type": "code",
   "execution_count": 12,
   "id": "bf2b0221-f393-4760-a2dc-b2fe7e9b5771",
   "metadata": {},
   "outputs": [
    {
     "data": {
      "text/plain": [
       "OrderedDict([('hello', 1),\n",
       "             ('how', 1),\n",
       "             ('are', 1),\n",
       "             ('you', 2),\n",
       "             ('nice', 1),\n",
       "             ('to', 1),\n",
       "             ('see', 1),\n",
       "             ('rcb', 1),\n",
       "             ('will', 1),\n",
       "             ('win', 1),\n",
       "             ('this', 1),\n",
       "             ('year', 1),\n",
       "             (\"'s\", 2),\n",
       "             ('ipl', 1),\n",
       "             ('trophy', 1),\n",
       "             ('i', 1),\n",
       "             ('dont', 1),\n",
       "             ('like', 2),\n",
       "             ('the', 1),\n",
       "             ('shawshank', 1),\n",
       "             ('redemption', 1),\n",
       "             ('movie', 1),\n",
       "             ('it', 1),\n",
       "             ('is', 1),\n",
       "             ('really', 1),\n",
       "             ('a', 1),\n",
       "             ('bad', 1),\n",
       "             ('day', 1),\n",
       "             ('today', 1),\n",
       "             ('weather', 1),\n",
       "             ('seems', 1),\n",
       "             ('raining', 1)])"
      ]
     },
     "execution_count": 12,
     "metadata": {},
     "output_type": "execute_result"
    }
   ],
   "source": [
    "tc.word_counts"
   ]
  },
  {
   "cell_type": "code",
   "execution_count": null,
   "id": "9da9558d-5de9-4437-94d3-1d1300d8e351",
   "metadata": {},
   "outputs": [],
   "source": []
  },
  {
   "cell_type": "code",
   "execution_count": 14,
   "id": "eace9642-51c9-45ce-a21b-bea5df450f34",
   "metadata": {},
   "outputs": [],
   "source": [
    "sequences=tc.texts_to_sequences(docs)"
   ]
  },
  {
   "cell_type": "code",
   "execution_count": 15,
   "id": "7f29b174-9909-45ca-8404-53db829fa1bd",
   "metadata": {},
   "outputs": [
    {
     "data": {
      "text/plain": [
       "[[5, 6, 7, 2],\n",
       " [8, 9, 10, 2],\n",
       " [11, 12, 13, 14, 15, 3, 16, 17],\n",
       " [18, 19, 4, 20, 21, 22, 23],\n",
       " [24, 25, 26, 27, 28, 29],\n",
       " [30, 3, 31, 32, 4, 33]]"
      ]
     },
     "execution_count": 15,
     "metadata": {},
     "output_type": "execute_result"
    }
   ],
   "source": [
    "sequences"
   ]
  },
  {
   "cell_type": "code",
   "execution_count": 16,
   "id": "bc20e358-987c-4a0f-9a63-308924e49828",
   "metadata": {},
   "outputs": [],
   "source": [
    "# now add padding "
   ]
  },
  {
   "cell_type": "code",
   "execution_count": 17,
   "id": "4d721d03-d375-45e7-93fd-87981a40fdbd",
   "metadata": {},
   "outputs": [],
   "source": [
    "from keras.utils import pad_sequences"
   ]
  },
  {
   "cell_type": "code",
   "execution_count": 18,
   "id": "ad4cd1d7-b7a6-4c9b-871f-f56d2511e59e",
   "metadata": {},
   "outputs": [],
   "source": [
    "sequences=pad_sequences(sequences=sequences,padding='post')"
   ]
  },
  {
   "cell_type": "markdown",
   "id": "d5a3ef82-a161-48b9-9f13-c6898ccf6d92",
   "metadata": {},
   "source": [
    "* We will get a matrix with words converted to number using tokenizer and each has similar dimension"
   ]
  },
  {
   "cell_type": "code",
   "execution_count": 19,
   "id": "4c250f56-71f0-4293-8e3d-a338b3d2d9d4",
   "metadata": {},
   "outputs": [
    {
     "data": {
      "text/plain": [
       "array([[ 5,  6,  7,  2,  0,  0,  0,  0],\n",
       "       [ 8,  9, 10,  2,  0,  0,  0,  0],\n",
       "       [11, 12, 13, 14, 15,  3, 16, 17],\n",
       "       [18, 19,  4, 20, 21, 22, 23,  0],\n",
       "       [24, 25, 26, 27, 28, 29,  0,  0],\n",
       "       [30,  3, 31, 32,  4, 33,  0,  0]])"
      ]
     },
     "execution_count": 19,
     "metadata": {},
     "output_type": "execute_result"
    }
   ],
   "source": [
    "sequences"
   ]
  },
  {
   "cell_type": "code",
   "execution_count": 20,
   "id": "0da64778-a8d2-4e33-ae14-47bcffb8df88",
   "metadata": {},
   "outputs": [],
   "source": [
    "from tensorflow.keras.datasets import imdb"
   ]
  },
  {
   "cell_type": "code",
   "execution_count": 22,
   "id": "f149d5cb-f403-4706-ab2d-6b6191d4d91f",
   "metadata": {},
   "outputs": [
    {
     "name": "stdout",
     "output_type": "stream",
     "text": [
      "Downloading data from https://storage.googleapis.com/tensorflow/tf-keras-datasets/imdb.npz\n",
      "\u001b[1m17464789/17464789\u001b[0m \u001b[32m━━━━━━━━━━━━━━━━━━━━\u001b[0m\u001b[37m\u001b[0m \u001b[1m17s\u001b[0m 1us/step\n"
     ]
    }
   ],
   "source": [
    "(X_train,y_train),(X_test,y_test)=imdb.load_data()"
   ]
  },
  {
   "cell_type": "code",
   "execution_count": 24,
   "id": "1b6378fa-5a2d-469b-b462-7fe404013ce7",
   "metadata": {},
   "outputs": [
    {
     "data": {
      "text/plain": [
       "(25000,)"
      ]
     },
     "execution_count": 24,
     "metadata": {},
     "output_type": "execute_result"
    }
   ],
   "source": [
    "X_train.shape"
   ]
  },
  {
   "cell_type": "code",
   "execution_count": 25,
   "id": "f27fca2b-1fcd-455a-b9ad-40d64623eeff",
   "metadata": {},
   "outputs": [
    {
     "data": {
      "text/plain": [
       "(25000,)"
      ]
     },
     "execution_count": 25,
     "metadata": {},
     "output_type": "execute_result"
    }
   ],
   "source": [
    "X_test.shape"
   ]
  },
  {
   "cell_type": "code",
   "execution_count": 32,
   "id": "ed23d207-f369-4529-81ad-9fdc5badc6fe",
   "metadata": {},
   "outputs": [
    {
     "data": {
      "text/plain": [
       "218"
      ]
     },
     "execution_count": 32,
     "metadata": {},
     "output_type": "execute_result"
    }
   ],
   "source": [
    "len(X_train[0])"
   ]
  },
  {
   "cell_type": "code",
   "execution_count": 33,
   "id": "c6401097-c47b-4084-8e7d-dc4ac021c124",
   "metadata": {},
   "outputs": [
    {
     "data": {
      "text/plain": [
       "189"
      ]
     },
     "execution_count": 33,
     "metadata": {},
     "output_type": "execute_result"
    }
   ],
   "source": [
    "len(X_train[1])"
   ]
  },
  {
   "cell_type": "code",
   "execution_count": 34,
   "id": "eb481c04-b791-4ccd-8bb6-5ef64c1eb7b1",
   "metadata": {},
   "outputs": [
    {
     "data": {
      "text/plain": [
       "141"
      ]
     },
     "execution_count": 34,
     "metadata": {},
     "output_type": "execute_result"
    }
   ],
   "source": [
    "len(X_train[2])"
   ]
  },
  {
   "cell_type": "markdown",
   "id": "f190588b-a45f-4c92-bdaa-4517cb9b5a30",
   "metadata": {},
   "source": [
    "## Apply padding"
   ]
  },
  {
   "cell_type": "code",
   "execution_count": 35,
   "id": "197cbe5f-286d-47fb-928a-570a15ff10eb",
   "metadata": {},
   "outputs": [],
   "source": [
    "X_train=pad_sequences(X_train,padding='post')"
   ]
  },
  {
   "cell_type": "code",
   "execution_count": 36,
   "id": "6f1aaa3d-f893-4e8b-9f03-e08f8547fe7d",
   "metadata": {},
   "outputs": [],
   "source": [
    "X_test=pad_sequences(X_test,padding='post')"
   ]
  },
  {
   "cell_type": "code",
   "execution_count": 39,
   "id": "3092b86c-97cd-4c1d-8525-5bf7d3f853d4",
   "metadata": {},
   "outputs": [
    {
     "data": {
      "text/plain": [
       "2494"
      ]
     },
     "execution_count": 39,
     "metadata": {},
     "output_type": "execute_result"
    }
   ],
   "source": [
    "len(X_train[0])"
   ]
  },
  {
   "cell_type": "code",
   "execution_count": 40,
   "id": "dec72108-6c90-4385-9f5e-a5a326cec5ed",
   "metadata": {},
   "outputs": [
    {
     "data": {
      "text/plain": [
       "2494"
      ]
     },
     "execution_count": 40,
     "metadata": {},
     "output_type": "execute_result"
    }
   ],
   "source": [
    "len(X_train[1])"
   ]
  },
  {
   "cell_type": "code",
   "execution_count": 41,
   "id": "d498f2c9-1b78-43e7-bfe5-724ce785052e",
   "metadata": {},
   "outputs": [
    {
     "data": {
      "text/plain": [
       "2494"
      ]
     },
     "execution_count": 41,
     "metadata": {},
     "output_type": "execute_result"
    }
   ],
   "source": [
    "len(X_train[2])"
   ]
  },
  {
   "cell_type": "code",
   "execution_count": 42,
   "id": "4f8c1c15-fcf4-4df5-b68a-e6e40045bb63",
   "metadata": {},
   "outputs": [
    {
     "data": {
      "text/plain": [
       "(25000, 2494)"
      ]
     },
     "execution_count": 42,
     "metadata": {},
     "output_type": "execute_result"
    }
   ],
   "source": [
    "X_train.shape"
   ]
  },
  {
   "cell_type": "markdown",
   "id": "1644becd-dbbd-4405-8e2b-c8981149b506",
   "metadata": {},
   "source": [
    "## RNN architecture"
   ]
  },
  {
   "cell_type": "code",
   "execution_count": 43,
   "id": "3091ddc7-1bc1-4d92-bb1a-98cc2539c4c3",
   "metadata": {},
   "outputs": [],
   "source": [
    "model=Sequential()"
   ]
  },
  {
   "cell_type": "code",
   "execution_count": 45,
   "id": "5a09b18f-a6f2-4a1c-984b-c5dd5c430006",
   "metadata": {},
   "outputs": [
    {
     "name": "stderr",
     "output_type": "stream",
     "text": [
      "C:\\Users\\Neel vankar\\anaconda3\\Lib\\site-packages\\keras\\src\\layers\\rnn\\rnn.py:200: UserWarning: Do not pass an `input_shape`/`input_dim` argument to a layer. When using Sequential models, prefer using an `Input(shape)` object as the first layer in the model instead.\n",
      "  super().__init__(**kwargs)\n"
     ]
    }
   ],
   "source": [
    "# 2494 timestamp 1 feature\n",
    "model.add(SimpleRNN(32,input_shape=(2494,1),return_sequences=False))\n",
    "model.add(Dense(1,activation='sigmoid'))\n"
   ]
  },
  {
   "cell_type": "code",
   "execution_count": 46,
   "id": "8c620db2-7a1b-4e15-a633-7d4ff4b12737",
   "metadata": {},
   "outputs": [
    {
     "data": {
      "text/html": [
       "<pre style=\"white-space:pre;overflow-x:auto;line-height:normal;font-family:Menlo,'DejaVu Sans Mono',consolas,'Courier New',monospace\"><span style=\"font-weight: bold\">Model: \"sequential\"</span>\n",
       "</pre>\n"
      ],
      "text/plain": [
       "\u001b[1mModel: \"sequential\"\u001b[0m\n"
      ]
     },
     "metadata": {},
     "output_type": "display_data"
    },
    {
     "data": {
      "text/html": [
       "<pre style=\"white-space:pre;overflow-x:auto;line-height:normal;font-family:Menlo,'DejaVu Sans Mono',consolas,'Courier New',monospace\">┏━━━━━━━━━━━━━━━━━━━━━━━━━━━━━━━━━━━━━━┳━━━━━━━━━━━━━━━━━━━━━━━━━━━━━┳━━━━━━━━━━━━━━━━━┓\n",
       "┃<span style=\"font-weight: bold\"> Layer (type)                         </span>┃<span style=\"font-weight: bold\"> Output Shape                </span>┃<span style=\"font-weight: bold\">         Param # </span>┃\n",
       "┡━━━━━━━━━━━━━━━━━━━━━━━━━━━━━━━━━━━━━━╇━━━━━━━━━━━━━━━━━━━━━━━━━━━━━╇━━━━━━━━━━━━━━━━━┩\n",
       "│ simple_rnn (<span style=\"color: #0087ff; text-decoration-color: #0087ff\">SimpleRNN</span>)               │ (<span style=\"color: #00d7ff; text-decoration-color: #00d7ff\">None</span>, <span style=\"color: #00af00; text-decoration-color: #00af00\">32</span>)                  │           <span style=\"color: #00af00; text-decoration-color: #00af00\">1,088</span> │\n",
       "├──────────────────────────────────────┼─────────────────────────────┼─────────────────┤\n",
       "│ dense (<span style=\"color: #0087ff; text-decoration-color: #0087ff\">Dense</span>)                        │ (<span style=\"color: #00d7ff; text-decoration-color: #00d7ff\">None</span>, <span style=\"color: #00af00; text-decoration-color: #00af00\">1</span>)                   │              <span style=\"color: #00af00; text-decoration-color: #00af00\">33</span> │\n",
       "└──────────────────────────────────────┴─────────────────────────────┴─────────────────┘\n",
       "</pre>\n"
      ],
      "text/plain": [
       "┏━━━━━━━━━━━━━━━━━━━━━━━━━━━━━━━━━━━━━━┳━━━━━━━━━━━━━━━━━━━━━━━━━━━━━┳━━━━━━━━━━━━━━━━━┓\n",
       "┃\u001b[1m \u001b[0m\u001b[1mLayer (type)                        \u001b[0m\u001b[1m \u001b[0m┃\u001b[1m \u001b[0m\u001b[1mOutput Shape               \u001b[0m\u001b[1m \u001b[0m┃\u001b[1m \u001b[0m\u001b[1m        Param #\u001b[0m\u001b[1m \u001b[0m┃\n",
       "┡━━━━━━━━━━━━━━━━━━━━━━━━━━━━━━━━━━━━━━╇━━━━━━━━━━━━━━━━━━━━━━━━━━━━━╇━━━━━━━━━━━━━━━━━┩\n",
       "│ simple_rnn (\u001b[38;5;33mSimpleRNN\u001b[0m)               │ (\u001b[38;5;45mNone\u001b[0m, \u001b[38;5;34m32\u001b[0m)                  │           \u001b[38;5;34m1,088\u001b[0m │\n",
       "├──────────────────────────────────────┼─────────────────────────────┼─────────────────┤\n",
       "│ dense (\u001b[38;5;33mDense\u001b[0m)                        │ (\u001b[38;5;45mNone\u001b[0m, \u001b[38;5;34m1\u001b[0m)                   │              \u001b[38;5;34m33\u001b[0m │\n",
       "└──────────────────────────────────────┴─────────────────────────────┴─────────────────┘\n"
      ]
     },
     "metadata": {},
     "output_type": "display_data"
    },
    {
     "data": {
      "text/html": [
       "<pre style=\"white-space:pre;overflow-x:auto;line-height:normal;font-family:Menlo,'DejaVu Sans Mono',consolas,'Courier New',monospace\"><span style=\"font-weight: bold\"> Total params: </span><span style=\"color: #00af00; text-decoration-color: #00af00\">1,121</span> (4.38 KB)\n",
       "</pre>\n"
      ],
      "text/plain": [
       "\u001b[1m Total params: \u001b[0m\u001b[38;5;34m1,121\u001b[0m (4.38 KB)\n"
      ]
     },
     "metadata": {},
     "output_type": "display_data"
    },
    {
     "data": {
      "text/html": [
       "<pre style=\"white-space:pre;overflow-x:auto;line-height:normal;font-family:Menlo,'DejaVu Sans Mono',consolas,'Courier New',monospace\"><span style=\"font-weight: bold\"> Trainable params: </span><span style=\"color: #00af00; text-decoration-color: #00af00\">1,121</span> (4.38 KB)\n",
       "</pre>\n"
      ],
      "text/plain": [
       "\u001b[1m Trainable params: \u001b[0m\u001b[38;5;34m1,121\u001b[0m (4.38 KB)\n"
      ]
     },
     "metadata": {},
     "output_type": "display_data"
    },
    {
     "data": {
      "text/html": [
       "<pre style=\"white-space:pre;overflow-x:auto;line-height:normal;font-family:Menlo,'DejaVu Sans Mono',consolas,'Courier New',monospace\"><span style=\"font-weight: bold\"> Non-trainable params: </span><span style=\"color: #00af00; text-decoration-color: #00af00\">0</span> (0.00 B)\n",
       "</pre>\n"
      ],
      "text/plain": [
       "\u001b[1m Non-trainable params: \u001b[0m\u001b[38;5;34m0\u001b[0m (0.00 B)\n"
      ]
     },
     "metadata": {},
     "output_type": "display_data"
    }
   ],
   "source": [
    "model.summary()"
   ]
  },
  {
   "cell_type": "code",
   "execution_count": 47,
   "id": "279da091-90a7-4e89-90c8-1529eabc0b8b",
   "metadata": {},
   "outputs": [],
   "source": [
    "model.compile(optimizer='Adam',loss='binary_crossentropy',metrics=['accuracy'])"
   ]
  },
  {
   "cell_type": "code",
   "execution_count": 48,
   "id": "628c6b09-fdc8-4be8-af55-c607aa5ec3ae",
   "metadata": {},
   "outputs": [
    {
     "name": "stdout",
     "output_type": "stream",
     "text": [
      "Epoch 1/5\n",
      "\u001b[1m782/782\u001b[0m \u001b[32m━━━━━━━━━━━━━━━━━━━━\u001b[0m\u001b[37m\u001b[0m \u001b[1m101s\u001b[0m 127ms/step - accuracy: 0.4983 - loss: 0.6942 - val_accuracy: 0.5042 - val_loss: 0.6963\n",
      "Epoch 2/5\n",
      "\u001b[1m782/782\u001b[0m \u001b[32m━━━━━━━━━━━━━━━━━━━━\u001b[0m\u001b[37m\u001b[0m \u001b[1m99s\u001b[0m 127ms/step - accuracy: 0.5058 - loss: 0.6949 - val_accuracy: 0.5033 - val_loss: 0.6934\n",
      "Epoch 3/5\n",
      "\u001b[1m782/782\u001b[0m \u001b[32m━━━━━━━━━━━━━━━━━━━━\u001b[0m\u001b[37m\u001b[0m \u001b[1m100s\u001b[0m 128ms/step - accuracy: 0.4996 - loss: 0.6940 - val_accuracy: 0.4974 - val_loss: 0.6936\n",
      "Epoch 4/5\n",
      "\u001b[1m782/782\u001b[0m \u001b[32m━━━━━━━━━━━━━━━━━━━━\u001b[0m\u001b[37m\u001b[0m \u001b[1m101s\u001b[0m 130ms/step - accuracy: 0.4978 - loss: 0.6943 - val_accuracy: 0.5027 - val_loss: 0.6939\n",
      "Epoch 5/5\n",
      "\u001b[1m782/782\u001b[0m \u001b[32m━━━━━━━━━━━━━━━━━━━━\u001b[0m\u001b[37m\u001b[0m \u001b[1m100s\u001b[0m 128ms/step - accuracy: 0.4968 - loss: 0.6941 - val_accuracy: 0.5050 - val_loss: 0.6932\n"
     ]
    },
    {
     "data": {
      "text/plain": [
       "<keras.src.callbacks.history.History at 0x25464a2c690>"
      ]
     },
     "execution_count": 48,
     "metadata": {},
     "output_type": "execute_result"
    }
   ],
   "source": [
    "model.fit(X_train,y_train,epochs=5,validation_split=0.2,validation_data=(X_test,y_test))"
   ]
  },
  {
   "cell_type": "code",
   "execution_count": 49,
   "id": "65382914-5e38-47c4-a7a9-59e62a13a17f",
   "metadata": {},
   "outputs": [
    {
     "data": {
      "text/plain": [
       "array([[ 5,  6,  7,  2,  0,  0,  0,  0],\n",
       "       [ 8,  9, 10,  2,  0,  0,  0,  0],\n",
       "       [11, 12, 13, 14, 15,  3, 16, 17],\n",
       "       [18, 19,  4, 20, 21, 22, 23,  0],\n",
       "       [24, 25, 26, 27, 28, 29,  0,  0],\n",
       "       [30,  3, 31, 32,  4, 33,  0,  0]])"
      ]
     },
     "execution_count": 49,
     "metadata": {},
     "output_type": "execute_result"
    }
   ],
   "source": [
    "sequences"
   ]
  },
  {
   "cell_type": "code",
   "execution_count": 57,
   "id": "373c8615-b451-4869-bfdb-5c6a29cee251",
   "metadata": {},
   "outputs": [
    {
     "data": {
      "text/plain": [
       "OrderedDict([('hello', 1),\n",
       "             ('how', 1),\n",
       "             ('are', 1),\n",
       "             ('you', 2),\n",
       "             ('nice', 1),\n",
       "             ('to', 1),\n",
       "             ('see', 1),\n",
       "             ('rcb', 1),\n",
       "             ('will', 1),\n",
       "             ('win', 1),\n",
       "             ('this', 1),\n",
       "             ('year', 1),\n",
       "             (\"'s\", 2),\n",
       "             ('ipl', 1),\n",
       "             ('trophy', 1),\n",
       "             ('i', 1),\n",
       "             ('dont', 1),\n",
       "             ('like', 2),\n",
       "             ('the', 1),\n",
       "             ('shawshank', 1),\n",
       "             ('redemption', 1),\n",
       "             ('movie', 1),\n",
       "             ('it', 1),\n",
       "             ('is', 1),\n",
       "             ('really', 1),\n",
       "             ('a', 1),\n",
       "             ('bad', 1),\n",
       "             ('day', 1),\n",
       "             ('today', 1),\n",
       "             ('weather', 1),\n",
       "             ('seems', 1),\n",
       "             ('raining', 1)])"
      ]
     },
     "execution_count": 57,
     "metadata": {},
     "output_type": "execute_result"
    }
   ],
   "source": [
    "tc.word_counts"
   ]
  },
  {
   "cell_type": "code",
   "execution_count": 67,
   "id": "94c20837-9af9-4b50-ac28-04ec522bf820",
   "metadata": {},
   "outputs": [],
   "source": [
    "from tensorflow.keras.layers import Embedding\n",
    "model4=Sequential()\n"
   ]
  },
  {
   "cell_type": "code",
   "execution_count": 68,
   "id": "8cf04616-c08f-4979-8fdc-1bb8e3d570e7",
   "metadata": {},
   "outputs": [],
   "source": [
    "model4.add(Embedding(32,output_dim=2,input_length=8))"
   ]
  },
  {
   "cell_type": "code",
   "execution_count": 69,
   "id": "aa8882f9-e86a-4c38-b7bd-07f3d493f293",
   "metadata": {},
   "outputs": [],
   "source": [
    "# model4.add(Dense(1,activation='sigmoid'))"
   ]
  },
  {
   "cell_type": "code",
   "execution_count": 70,
   "id": "b02fb9c8-180f-44a0-aca4-939d7a0c5ba9",
   "metadata": {},
   "outputs": [
    {
     "data": {
      "text/html": [
       "<pre style=\"white-space:pre;overflow-x:auto;line-height:normal;font-family:Menlo,'DejaVu Sans Mono',consolas,'Courier New',monospace\"><span style=\"font-weight: bold\">Model: \"sequential_3\"</span>\n",
       "</pre>\n"
      ],
      "text/plain": [
       "\u001b[1mModel: \"sequential_3\"\u001b[0m\n"
      ]
     },
     "metadata": {},
     "output_type": "display_data"
    },
    {
     "data": {
      "text/html": [
       "<pre style=\"white-space:pre;overflow-x:auto;line-height:normal;font-family:Menlo,'DejaVu Sans Mono',consolas,'Courier New',monospace\">┏━━━━━━━━━━━━━━━━━━━━━━━━━━━━━━━━━━━━━━┳━━━━━━━━━━━━━━━━━━━━━━━━━━━━━┳━━━━━━━━━━━━━━━━━┓\n",
       "┃<span style=\"font-weight: bold\"> Layer (type)                         </span>┃<span style=\"font-weight: bold\"> Output Shape                </span>┃<span style=\"font-weight: bold\">         Param # </span>┃\n",
       "┡━━━━━━━━━━━━━━━━━━━━━━━━━━━━━━━━━━━━━━╇━━━━━━━━━━━━━━━━━━━━━━━━━━━━━╇━━━━━━━━━━━━━━━━━┩\n",
       "│ embedding_2 (<span style=\"color: #0087ff; text-decoration-color: #0087ff\">Embedding</span>)              │ ?                           │     <span style=\"color: #00af00; text-decoration-color: #00af00\">0</span> (unbuilt) │\n",
       "└──────────────────────────────────────┴─────────────────────────────┴─────────────────┘\n",
       "</pre>\n"
      ],
      "text/plain": [
       "┏━━━━━━━━━━━━━━━━━━━━━━━━━━━━━━━━━━━━━━┳━━━━━━━━━━━━━━━━━━━━━━━━━━━━━┳━━━━━━━━━━━━━━━━━┓\n",
       "┃\u001b[1m \u001b[0m\u001b[1mLayer (type)                        \u001b[0m\u001b[1m \u001b[0m┃\u001b[1m \u001b[0m\u001b[1mOutput Shape               \u001b[0m\u001b[1m \u001b[0m┃\u001b[1m \u001b[0m\u001b[1m        Param #\u001b[0m\u001b[1m \u001b[0m┃\n",
       "┡━━━━━━━━━━━━━━━━━━━━━━━━━━━━━━━━━━━━━━╇━━━━━━━━━━━━━━━━━━━━━━━━━━━━━╇━━━━━━━━━━━━━━━━━┩\n",
       "│ embedding_2 (\u001b[38;5;33mEmbedding\u001b[0m)              │ ?                           │     \u001b[38;5;34m0\u001b[0m (unbuilt) │\n",
       "└──────────────────────────────────────┴─────────────────────────────┴─────────────────┘\n"
      ]
     },
     "metadata": {},
     "output_type": "display_data"
    },
    {
     "data": {
      "text/html": [
       "<pre style=\"white-space:pre;overflow-x:auto;line-height:normal;font-family:Menlo,'DejaVu Sans Mono',consolas,'Courier New',monospace\"><span style=\"font-weight: bold\"> Total params: </span><span style=\"color: #00af00; text-decoration-color: #00af00\">0</span> (0.00 B)\n",
       "</pre>\n"
      ],
      "text/plain": [
       "\u001b[1m Total params: \u001b[0m\u001b[38;5;34m0\u001b[0m (0.00 B)\n"
      ]
     },
     "metadata": {},
     "output_type": "display_data"
    },
    {
     "data": {
      "text/html": [
       "<pre style=\"white-space:pre;overflow-x:auto;line-height:normal;font-family:Menlo,'DejaVu Sans Mono',consolas,'Courier New',monospace\"><span style=\"font-weight: bold\"> Trainable params: </span><span style=\"color: #00af00; text-decoration-color: #00af00\">0</span> (0.00 B)\n",
       "</pre>\n"
      ],
      "text/plain": [
       "\u001b[1m Trainable params: \u001b[0m\u001b[38;5;34m0\u001b[0m (0.00 B)\n"
      ]
     },
     "metadata": {},
     "output_type": "display_data"
    },
    {
     "data": {
      "text/html": [
       "<pre style=\"white-space:pre;overflow-x:auto;line-height:normal;font-family:Menlo,'DejaVu Sans Mono',consolas,'Courier New',monospace\"><span style=\"font-weight: bold\"> Non-trainable params: </span><span style=\"color: #00af00; text-decoration-color: #00af00\">0</span> (0.00 B)\n",
       "</pre>\n"
      ],
      "text/plain": [
       "\u001b[1m Non-trainable params: \u001b[0m\u001b[38;5;34m0\u001b[0m (0.00 B)\n"
      ]
     },
     "metadata": {},
     "output_type": "display_data"
    }
   ],
   "source": [
    "model4.summary()"
   ]
  },
  {
   "cell_type": "code",
   "execution_count": null,
   "id": "fa727ab6-f436-4f16-9c68-c83893007c4f",
   "metadata": {},
   "outputs": [],
   "source": []
  }
 ],
 "metadata": {
  "kernelspec": {
   "display_name": "Python 3 (ipykernel)",
   "language": "python",
   "name": "python3"
  },
  "language_info": {
   "codemirror_mode": {
    "name": "ipython",
    "version": 3
   },
   "file_extension": ".py",
   "mimetype": "text/x-python",
   "name": "python",
   "nbconvert_exporter": "python",
   "pygments_lexer": "ipython3",
   "version": "3.11.7"
  }
 },
 "nbformat": 4,
 "nbformat_minor": 5
}
